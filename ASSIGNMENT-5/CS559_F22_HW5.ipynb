{
 "cells": [
  {
   "cell_type": "markdown",
   "id": "102a0758",
   "metadata": {},
   "source": [
    "## <center> CS559 Machine Learning: Fundamentals and Applications</center>\n",
    "<center> Fall 2022 HW5</center>\n",
    "<center>Due: 12/16/2022 Friday 11:59 PM </center>"
   ]
  },
  {
   "cell_type": "markdown",
   "id": "37e2cb96",
   "metadata": {},
   "source": [
    "Homework assignments will be done individually: each student must hand in their own answers. Use of partial or entire solutions obtained from others or online is strictly prohibited. Electronic submission on Canvas is mandatory."
   ]
  },
  {
   "cell_type": "markdown",
   "id": "11037a17",
   "metadata": {},
   "source": [
    "# Graphical Models (30 pts)"
   ]
  },
  {
   "cell_type": "markdown",
   "id": "83ce17fb",
   "metadata": {},
   "source": [
    "Consider following tables:\n",
    "\n",
    "||p(C)|\n",
    "|----|----|\n",
    "|F|0.65|\n",
    "|T|0.35|"
   ]
  },
  {
   "cell_type": "markdown",
   "id": "9491f1e5",
   "metadata": {},
   "source": [
    "|C|p(S=F)|p(S=T)|p(R=F)|p(R=T)|\n",
    "|--|--|--|--|--|\n",
    "|F|0.7|0.3|0.8|0.2|\n",
    "|T|0.8|0.2|0.2|0.8|"
   ]
  },
  {
   "cell_type": "markdown",
   "id": "5c8519c7",
   "metadata": {},
   "source": [
    "|S|R|p(W=T)|p(W=F)|\n",
    "|-|-|---|---|\n",
    "|F|F|0.96|0.04|\n",
    "|T|F|0.15|0.85|\n",
    "|F|T|0.17|0.83|\n",
    "|T|T|0.02|0.98|"
   ]
  },
  {
   "attachments": {},
   "cell_type": "markdown",
   "id": "8acf9cb8",
   "metadata": {},
   "source": [
    "a.\t(5 pts) Using pgmpy, draw a conditional directed graph."
   ]
  },
  {
   "cell_type": "code",
   "execution_count": 53,
   "id": "1cb32324",
   "metadata": {},
   "outputs": [
    {
     "name": "stdout",
     "output_type": "stream",
     "text": [
      "Defaulting to user installation because normal site-packages is not writeable\n",
      "Requirement already satisfied: scikit-learn in /home/z/.local/lib/python3.10/site-packages (1.2.0)\n",
      "Requirement already satisfied: scipy in /home/z/.local/lib/python3.10/site-packages (1.9.3)\n",
      "Requirement already satisfied: matplotlib in /home/z/.local/lib/python3.10/site-packages (3.6.2)\n",
      "Requirement already satisfied: threadpoolctl>=2.0.0 in /home/z/.local/lib/python3.10/site-packages (from scikit-learn) (3.1.0)\n",
      "Requirement already satisfied: joblib>=1.1.1 in /home/z/.local/lib/python3.10/site-packages (from scikit-learn) (1.2.0)\n",
      "Requirement already satisfied: numpy>=1.17.3 in /usr/lib/python3.10/site-packages (from scikit-learn) (1.23.5)\n",
      "Requirement already satisfied: pyparsing>=2.2.1 in /usr/lib/python3.10/site-packages (from matplotlib) (3.0.9)\n",
      "Requirement already satisfied: contourpy>=1.0.1 in /home/z/.local/lib/python3.10/site-packages (from matplotlib) (1.0.6)\n",
      "Requirement already satisfied: cycler>=0.10 in /home/z/.local/lib/python3.10/site-packages (from matplotlib) (0.11.0)\n",
      "Requirement already satisfied: kiwisolver>=1.0.1 in /home/z/.local/lib/python3.10/site-packages (from matplotlib) (1.4.4)\n",
      "Requirement already satisfied: fonttools>=4.22.0 in /home/z/.local/lib/python3.10/site-packages (from matplotlib) (4.38.0)\n",
      "Requirement already satisfied: packaging>=20.0 in /usr/lib/python3.10/site-packages (from matplotlib) (21.3)\n",
      "Requirement already satisfied: pillow>=6.2.0 in /usr/lib/python3.10/site-packages (from matplotlib) (9.3.0)\n",
      "Requirement already satisfied: python-dateutil>=2.7 in /home/z/.local/lib/python3.10/site-packages (from matplotlib) (2.8.2)\n",
      "Requirement already satisfied: six>=1.5 in /usr/lib/python3.10/site-packages (from python-dateutil>=2.7->matplotlib) (1.16.0)\n",
      "Defaulting to user installation because normal site-packages is not writeable\n",
      "Requirement already satisfied: pandas in /home/z/.local/lib/python3.10/site-packages (1.5.2)\n",
      "Requirement already satisfied: numpy>=1.21.0 in /usr/lib/python3.10/site-packages (from pandas) (1.23.5)\n",
      "Requirement already satisfied: pytz>=2020.1 in /home/z/.local/lib/python3.10/site-packages (from pandas) (2022.6)\n",
      "Requirement already satisfied: python-dateutil>=2.8.1 in /home/z/.local/lib/python3.10/site-packages (from pandas) (2.8.2)\n",
      "Requirement already satisfied: six>=1.5 in /usr/lib/python3.10/site-packages (from python-dateutil>=2.8.1->pandas) (1.16.0)\n",
      "Defaulting to user installation because normal site-packages is not writeable\n",
      "Requirement already satisfied: numpy in /usr/lib/python3.10/site-packages (1.23.5)\n",
      "Defaulting to user installation because normal site-packages is not writeable\n",
      "Collecting pgmpy\n",
      "  Downloading pgmpy-0.1.20-py3-none-any.whl (1.9 MB)\n",
      "\u001b[2K     \u001b[90m━━━━━━━━━━━━━━━━━━━━━━━━━━━━━━━━━━━━━━━━\u001b[0m \u001b[32m1.9/1.9 MB\u001b[0m \u001b[31m15.2 MB/s\u001b[0m eta \u001b[36m0:00:00\u001b[0ma \u001b[36m0:00:01\u001b[0m\n",
      "\u001b[?25hRequirement already satisfied: scikit-learn in /home/z/.local/lib/python3.10/site-packages (from pgmpy) (1.2.0)\n",
      "Requirement already satisfied: joblib in /home/z/.local/lib/python3.10/site-packages (from pgmpy) (1.2.0)\n",
      "Collecting networkx\n",
      "  Downloading networkx-2.8.8-py3-none-any.whl (2.0 MB)\n",
      "\u001b[2K     \u001b[90m━━━━━━━━━━━━━━━━━━━━━━━━━━━━━━━━━━━━━━━━\u001b[0m \u001b[32m2.0/2.0 MB\u001b[0m \u001b[31m20.9 MB/s\u001b[0m eta \u001b[36m0:00:00\u001b[0ma \u001b[36m0:00:01\u001b[0m\n",
      "\u001b[?25hRequirement already satisfied: pyparsing in /usr/lib/python3.10/site-packages (from pgmpy) (3.0.9)\n",
      "Collecting tqdm\n",
      "  Downloading tqdm-4.64.1-py2.py3-none-any.whl (78 kB)\n",
      "\u001b[2K     \u001b[90m━━━━━━━━━━━━━━━━━━━━━━━━━━━━━━━━━━━━━━━━\u001b[0m \u001b[32m78.5/78.5 kB\u001b[0m \u001b[31m25.0 MB/s\u001b[0m eta \u001b[36m0:00:00\u001b[0m\n",
      "\u001b[?25hCollecting opt-einsum\n",
      "  Downloading opt_einsum-3.3.0-py3-none-any.whl (65 kB)\n",
      "\u001b[2K     \u001b[90m━━━━━━━━━━━━━━━━━━━━━━━━━━━━━━━━━━━━━━━━\u001b[0m \u001b[32m65.5/65.5 kB\u001b[0m \u001b[31m21.4 MB/s\u001b[0m eta \u001b[36m0:00:00\u001b[0m\n",
      "\u001b[?25hCollecting torch\n",
      "  Downloading torch-1.13.1-cp310-cp310-manylinux1_x86_64.whl (887.5 MB)\n",
      "\u001b[2K     \u001b[90m━━━━━━━━━━━━━━━━━━━━━━━━━━━━━━━━━━━━━━━\u001b[0m \u001b[32m887.5/887.5 MB\u001b[0m \u001b[31m3.3 MB/s\u001b[0m eta \u001b[36m0:00:00\u001b[0m00:01\u001b[0m00:01\u001b[0m\n",
      "\u001b[?25hRequirement already satisfied: pandas in /home/z/.local/lib/python3.10/site-packages (from pgmpy) (1.5.2)\n",
      "Requirement already satisfied: scipy in /home/z/.local/lib/python3.10/site-packages (from pgmpy) (1.9.3)\n",
      "Requirement already satisfied: numpy in /usr/lib/python3.10/site-packages (from pgmpy) (1.23.5)\n",
      "Collecting statsmodels\n",
      "  Downloading statsmodels-0.13.5-cp310-cp310-manylinux_2_17_x86_64.manylinux2014_x86_64.whl (9.9 MB)\n",
      "\u001b[2K     \u001b[90m━━━━━━━━━━━━━━━━━━━━━━━━━━━━━━━━━━━━━━━━\u001b[0m \u001b[32m9.9/9.9 MB\u001b[0m \u001b[31m25.7 MB/s\u001b[0m eta \u001b[36m0:00:00\u001b[0m00:01\u001b[0m00:01\u001b[0m\n",
      "\u001b[?25hRequirement already satisfied: pytz>=2020.1 in /home/z/.local/lib/python3.10/site-packages (from pandas->pgmpy) (2022.6)\n",
      "Requirement already satisfied: python-dateutil>=2.8.1 in /home/z/.local/lib/python3.10/site-packages (from pandas->pgmpy) (2.8.2)\n",
      "Requirement already satisfied: threadpoolctl>=2.0.0 in /home/z/.local/lib/python3.10/site-packages (from scikit-learn->pgmpy) (3.1.0)\n",
      "Collecting patsy>=0.5.2\n",
      "  Downloading patsy-0.5.3-py2.py3-none-any.whl (233 kB)\n",
      "\u001b[2K     \u001b[90m━━━━━━━━━━━━━━━━━━━━━━━━━━━━━━━━━━━━━━\u001b[0m \u001b[32m233.8/233.8 kB\u001b[0m \u001b[31m58.4 MB/s\u001b[0m eta \u001b[36m0:00:00\u001b[0m\n",
      "\u001b[?25hRequirement already satisfied: packaging>=21.3 in /usr/lib/python3.10/site-packages (from statsmodels->pgmpy) (21.3)\n",
      "Collecting nvidia-cublas-cu11==11.10.3.66\n",
      "  Downloading nvidia_cublas_cu11-11.10.3.66-py3-none-manylinux1_x86_64.whl (317.1 MB)\n",
      "\u001b[2K     \u001b[90m━━━━━━━━━━━━━━━━━━━━━━━━━━━━━━━━━━━━━━━\u001b[0m \u001b[32m317.1/317.1 MB\u001b[0m \u001b[31m8.4 MB/s\u001b[0m eta \u001b[36m0:00:00\u001b[0m00:01\u001b[0m00:01\u001b[0m\n",
      "\u001b[?25hRequirement already satisfied: typing-extensions in /usr/lib/python3.10/site-packages (from torch->pgmpy) (4.4.0)\n",
      "Collecting nvidia-cudnn-cu11==8.5.0.96\n",
      "  Downloading nvidia_cudnn_cu11-8.5.0.96-2-py3-none-manylinux1_x86_64.whl (557.1 MB)\n",
      "\u001b[2K     \u001b[90m━━━━━━━━━━━━━━━━━━━━━━━━━━━━━━━━━━━━━━━\u001b[0m \u001b[32m557.1/557.1 MB\u001b[0m \u001b[31m4.6 MB/s\u001b[0m eta \u001b[36m0:00:00\u001b[0m00:01\u001b[0m00:01\u001b[0m\n",
      "\u001b[?25hCollecting nvidia-cuda-nvrtc-cu11==11.7.99\n",
      "  Downloading nvidia_cuda_nvrtc_cu11-11.7.99-2-py3-none-manylinux1_x86_64.whl (21.0 MB)\n",
      "\u001b[2K     \u001b[90m━━━━━━━━━━━━━━━━━━━━━━━━━━━━━━━━━━━━━━━━\u001b[0m \u001b[32m21.0/21.0 MB\u001b[0m \u001b[31m25.0 MB/s\u001b[0m eta \u001b[36m0:00:00\u001b[0m00:01\u001b[0m00:01\u001b[0m\n",
      "\u001b[?25hCollecting nvidia-cuda-runtime-cu11==11.7.99\n",
      "  Downloading nvidia_cuda_runtime_cu11-11.7.99-py3-none-manylinux1_x86_64.whl (849 kB)\n",
      "\u001b[2K     \u001b[90m━━━━━━━━━━━━━━━━━━━━━━━━━━━━━━━━━━━━━━\u001b[0m \u001b[32m849.3/849.3 kB\u001b[0m \u001b[31m42.8 MB/s\u001b[0m eta \u001b[36m0:00:00\u001b[0m\n",
      "\u001b[?25hRequirement already satisfied: setuptools in /usr/lib/python3.10/site-packages (from nvidia-cublas-cu11==11.10.3.66->torch->pgmpy) (65.6.3)\n",
      "Requirement already satisfied: wheel in /usr/lib/python3.10/site-packages (from nvidia-cublas-cu11==11.10.3.66->torch->pgmpy) (0.38.4)\n",
      "Requirement already satisfied: six in /usr/lib/python3.10/site-packages (from patsy>=0.5.2->statsmodels->pgmpy) (1.16.0)\n",
      "Requirement already satisfied: appdirs in /usr/lib/python3.10/site-packages (from setuptools->nvidia-cublas-cu11==11.10.3.66->torch->pgmpy) (1.4.4)\n",
      "Requirement already satisfied: jaraco.text in /usr/lib/python3.10/site-packages (from setuptools->nvidia-cublas-cu11==11.10.3.66->torch->pgmpy) (3.11.0)\n",
      "Requirement already satisfied: more-itertools in /usr/lib/python3.10/site-packages (from setuptools->nvidia-cublas-cu11==11.10.3.66->torch->pgmpy) (9.0.0)\n",
      "Requirement already satisfied: ordered-set in /usr/lib/python3.10/site-packages (from setuptools->nvidia-cublas-cu11==11.10.3.66->torch->pgmpy) (4.1.0)\n",
      "Requirement already satisfied: tomli in /usr/lib/python3.10/site-packages (from setuptools->nvidia-cublas-cu11==11.10.3.66->torch->pgmpy) (2.0.1)\n",
      "Requirement already satisfied: validate-pyproject in /usr/lib/python3.10/site-packages (from setuptools->nvidia-cublas-cu11==11.10.3.66->torch->pgmpy) (0.10.1)\n",
      "Requirement already satisfied: autocommand in /usr/lib/python3.10/site-packages (from jaraco.text->setuptools->nvidia-cublas-cu11==11.10.3.66->torch->pgmpy) (2.2.2)\n",
      "Requirement already satisfied: jaraco.context>=4.1 in /usr/lib/python3.10/site-packages (from jaraco.text->setuptools->nvidia-cublas-cu11==11.10.3.66->torch->pgmpy) (4.2.0)\n",
      "Requirement already satisfied: jaraco.functools in /usr/lib/python3.10/site-packages (from jaraco.text->setuptools->nvidia-cublas-cu11==11.10.3.66->torch->pgmpy) (3.5.2)\n",
      "Requirement already satisfied: inflect in /usr/lib/python3.10/site-packages (from jaraco.text->setuptools->nvidia-cublas-cu11==11.10.3.66->torch->pgmpy) (6.0.2)\n",
      "Requirement already satisfied: pydantic>=1.9.1 in /usr/lib/python3.10/site-packages (from inflect->jaraco.text->setuptools->nvidia-cublas-cu11==11.10.3.66->torch->pgmpy) (1.10.2)\n",
      "Installing collected packages: tqdm, patsy, opt-einsum, nvidia-cuda-nvrtc-cu11, networkx, statsmodels, nvidia-cuda-runtime-cu11, nvidia-cublas-cu11, nvidia-cudnn-cu11, torch, pgmpy\n",
      "\u001b[33m  WARNING: The script tqdm is installed in '/home/z/.local/bin' which is not on PATH.\n",
      "  Consider adding this directory to PATH or, if you prefer to suppress this warning, use --no-warn-script-location.\u001b[0m\u001b[33m\n",
      "\u001b[0m\u001b[33m  WARNING: The scripts convert-caffe2-to-onnx, convert-onnx-to-caffe2 and torchrun are installed in '/home/z/.local/bin' which is not on PATH.\n",
      "  Consider adding this directory to PATH or, if you prefer to suppress this warning, use --no-warn-script-location.\u001b[0m\u001b[33m\n",
      "\u001b[0mSuccessfully installed networkx-2.8.8 nvidia-cublas-cu11-11.10.3.66 nvidia-cuda-nvrtc-cu11-11.7.99 nvidia-cuda-runtime-cu11-11.7.99 nvidia-cudnn-cu11-8.5.0.96 opt-einsum-3.3.0 patsy-0.5.3 pgmpy-0.1.20 statsmodels-0.13.5 torch-1.13.1 tqdm-4.64.1\n",
      "Defaulting to user installation because normal site-packages is not writeable\n",
      "Requirement already satisfied: opencv-python in /home/z/.local/lib/python3.10/site-packages (4.6.0.66)\n",
      "Requirement already satisfied: numpy>=1.17.3 in /usr/lib/python3.10/site-packages (from opencv-python) (1.23.5)\n",
      "Defaulting to user installation because normal site-packages is not writeable\n",
      "Requirement already satisfied: daft in /home/z/.local/lib/python3.10/site-packages (0.1.2)\n",
      "Requirement already satisfied: matplotlib in /home/z/.local/lib/python3.10/site-packages (from daft) (3.6.2)\n",
      "Requirement already satisfied: setuptools in /usr/lib/python3.10/site-packages (from daft) (65.6.3)\n",
      "Requirement already satisfied: numpy in /usr/lib/python3.10/site-packages (from daft) (1.23.5)\n",
      "Requirement already satisfied: pillow>=6.2.0 in /usr/lib/python3.10/site-packages (from matplotlib->daft) (9.3.0)\n",
      "Requirement already satisfied: cycler>=0.10 in /home/z/.local/lib/python3.10/site-packages (from matplotlib->daft) (0.11.0)\n",
      "Requirement already satisfied: fonttools>=4.22.0 in /home/z/.local/lib/python3.10/site-packages (from matplotlib->daft) (4.38.0)\n",
      "Requirement already satisfied: pyparsing>=2.2.1 in /usr/lib/python3.10/site-packages (from matplotlib->daft) (3.0.9)\n",
      "Requirement already satisfied: packaging>=20.0 in /usr/lib/python3.10/site-packages (from matplotlib->daft) (21.3)\n",
      "Requirement already satisfied: python-dateutil>=2.7 in /home/z/.local/lib/python3.10/site-packages (from matplotlib->daft) (2.8.2)\n",
      "Requirement already satisfied: kiwisolver>=1.0.1 in /home/z/.local/lib/python3.10/site-packages (from matplotlib->daft) (1.4.4)\n",
      "Requirement already satisfied: contourpy>=1.0.1 in /home/z/.local/lib/python3.10/site-packages (from matplotlib->daft) (1.0.6)\n",
      "Requirement already satisfied: six>=1.5 in /usr/lib/python3.10/site-packages (from python-dateutil>=2.7->matplotlib->daft) (1.16.0)\n",
      "Requirement already satisfied: appdirs in /usr/lib/python3.10/site-packages (from setuptools->daft) (1.4.4)\n",
      "Requirement already satisfied: jaraco.text in /usr/lib/python3.10/site-packages (from setuptools->daft) (3.11.0)\n",
      "Requirement already satisfied: more-itertools in /usr/lib/python3.10/site-packages (from setuptools->daft) (9.0.0)\n",
      "Requirement already satisfied: ordered-set in /usr/lib/python3.10/site-packages (from setuptools->daft) (4.1.0)\n",
      "Requirement already satisfied: tomli in /usr/lib/python3.10/site-packages (from setuptools->daft) (2.0.1)\n",
      "Requirement already satisfied: validate-pyproject in /usr/lib/python3.10/site-packages (from setuptools->daft) (0.10.1)\n",
      "Requirement already satisfied: jaraco.functools in /usr/lib/python3.10/site-packages (from jaraco.text->setuptools->daft) (3.5.2)\n",
      "Requirement already satisfied: autocommand in /usr/lib/python3.10/site-packages (from jaraco.text->setuptools->daft) (2.2.2)\n",
      "Requirement already satisfied: inflect in /usr/lib/python3.10/site-packages (from jaraco.text->setuptools->daft) (6.0.2)\n",
      "Requirement already satisfied: jaraco.context>=4.1 in /usr/lib/python3.10/site-packages (from jaraco.text->setuptools->daft) (4.2.0)\n",
      "Requirement already satisfied: pydantic>=1.9.1 in /usr/lib/python3.10/site-packages (from inflect->jaraco.text->setuptools->daft) (1.10.2)\n",
      "Requirement already satisfied: typing-extensions>=4.1.0 in /usr/lib/python3.10/site-packages (from pydantic>=1.9.1->inflect->jaraco.text->setuptools->daft) (4.4.0)\n"
     ]
    }
   ],
   "source": [
    "! pip install scikit-learn scipy matplotlib\n",
    "! pip install pandas\n",
    "! pip install numpy\n",
    "! pip install pgmpy\n",
    "! pip install opencv-python\n",
    "! pip install daft "
   ]
  },
  {
   "cell_type": "code",
   "execution_count": 47,
   "id": "a6d1d1f5",
   "metadata": {},
   "outputs": [],
   "source": [
    "import matplotlib.pyplot as plt\n",
    "%matplotlib inline\n",
    "import daft\n",
    "from daft import PGM"
   ]
  },
  {
   "cell_type": "code",
   "execution_count": 45,
   "id": "f3be0a74",
   "metadata": {},
   "outputs": [
    {
     "data": {
      "image/png": "[encoded data removed]",
      "text/plain": [
       "<Figure size 314.961x314.961 with 1 Axes>"
      ]
     },
     "metadata": {},
     "output_type": "display_data"
    }
   ],
   "source": [
    "pgm = PGM(shape=[4, 4])\n",
    "\n",
    "pgm.add_node(daft.Node('C', r\"C\", 5, 5))\n",
    "pgm.add_node(daft.Node('R', r\"R\", 4, 3))\n",
    "pgm.add_node(daft.Node('S', r\"S\", 4, 5))\n",
    "pgm.add_node(daft.Node('W', r\"W\", 3, 4))\n",
    "\n",
    "\n",
    "pgm.add_edge('C', 'R')\n",
    "pgm.add_edge('C', 'S')\n",
    "pgm.add_edge('R', 'W')\n",
    "pgm.add_edge('S', 'W')\n",
    "\n",
    "\n",
    "pgm.render()\n",
    "plt.show()"
   ]
  },
  {
   "cell_type": "code",
   "execution_count": 22,
   "id": "4f66271f",
   "metadata": {},
   "outputs": [],
   "source": [
    "import numpy as np\n",
    "import pandas as pd\n",
    "import matplotlib.pyplot as plt\n",
    "import matplotlib.pyplot as plt2\n",
    "import sklearn as sk\n",
    "import sklearn\n",
    "%matplotlib inline"
   ]
  },
  {
   "attachments": {},
   "cell_type": "markdown",
   "id": "5c514edd",
   "metadata": {},
   "source": [
    "b.\t(5 pts) Calculate a probability p(C,S,R,W)\n",
    "\n",
    "\n",
    "p(C,S,R,W) = p(C)*p(S|C)*p(R|C)*p(W|R,S)\n",
    "\n",
    "Case 1 : C = T, S = T, R = T, W = T <br>\n",
    "Case 2 : C = F, S = T, R = T, W = T <br>\n",
    "Case 3 : C = F, S = F, R = T, W = T <br>\n",
    "Case 4 : C = F, S = F, R = F, W = T <br>\n",
    "Case 5 : C = F, S = F, R = F, W = F"
   ]
  },
  {
   "cell_type": "code",
   "execution_count": 49,
   "id": "eca75b49",
   "metadata": {},
   "outputs": [
    {
     "name": "stdout",
     "output_type": "stream",
     "text": [
      "0.00112\n",
      "0.003120000000000001\n",
      "0.015470000000000001\n",
      "0.34944\n",
      "0.01456\n"
     ]
    }
   ],
   "source": [
    "# Case 1 :\n",
    "c1 = 0.35 * 0.2 * 0.8 * 0.02\n",
    "print(c1)\n",
    "\n",
    "# Case 2 :\n",
    "c2 = 0.65 * 0.3 * 0.8 * 0.02\n",
    "print(c2)\n",
    "\n",
    "# Case 3 :\n",
    "c3 = 0.65 * 0.7 * 0.2 * 0.17\n",
    "print(c3)\n",
    "\n",
    "# Case 4 :\n",
    "c4 = 0.65 * 0.7 * 0.8 * 0.96\n",
    "print(c4)\n",
    "\n",
    "# Case 5 :\n",
    "c5 = 0.65 * 0.7 * 0.8 * 0.04\n",
    "print(c5)"
   ]
  },
  {
   "cell_type": "markdown",
   "id": "846f7b47",
   "metadata": {},
   "source": [
    "c.\t(5 pts) Calculate a probability p(S=T|W=T)."
   ]
  },
  {
   "cell_type": "code",
   "execution_count": 51,
   "id": "11f6d259",
   "metadata": {},
   "outputs": [
    {
     "name": "stdout",
     "output_type": "stream",
     "text": [
      "0.015944517538969295\n"
     ]
    }
   ],
   "source": [
    "# p(S=T|W=T) = sum(p(S=T, W=T, C, R)) / sum((W=T, S, R, C))\n",
    "\n",
    "# Solving for numerator\n",
    "# s=t, w=t, c=t, r=t\n",
    "sum_num = 0\n",
    "sum_num = sum_num + (0.2*0.02*0.35*0.8) \n",
    "\n",
    "# s=t, w=t, c=f, r=t\n",
    "\n",
    "sum_num += (0.3*0.020*0.65*0.2)\n",
    "\n",
    "# s=t, w=t, c=t, r=f\n",
    "\n",
    "sum_num += (0.2*0.15*0.35*0.2)\n",
    "\n",
    "# s=t, w=t, c=f, r=f\n",
    "\n",
    "sum_num += (0.3*0.15*0.35*0.2)\n",
    "\n",
    "# Solving for denominator\n",
    "deno_sum = sum_num\n",
    "\n",
    "# W=T, S=f, R=t, C=t\n",
    "deno_sum += (0.17*0.8*0.8*0.35)\n",
    "\n",
    "# W=T, S=f, R=f, C=t\n",
    "deno_sum += (0.96*0.8*0.2*0.35)\n",
    "\n",
    "# W=T, S=f, R=f, C=f\n",
    "deno_sum += (0.96*0.7*0.8*0.65)\n",
    "\n",
    "print(sum_num / deno_sum)\n"
   ]
  },
  {
   "cell_type": "markdown",
   "id": "f8767335",
   "metadata": {},
   "source": [
    "d.\t(10 pts) Using a provided data table, `GM_train.csv`, train a graphical model using `pgmpy.models.BayesianModel` and report the accuracy. The target is W. "
   ]
  },
  {
   "cell_type": "code",
   "execution_count": 57,
   "id": "c615eb48",
   "metadata": {},
   "outputs": [],
   "source": [
    "from pgmpy.models import BayesianModel\n",
    "from pgmpy.factors.discrete import TabularCPD\n",
    "from sklearn.metrics import accuracy_score"
   ]
  },
  {
   "cell_type": "code",
   "execution_count": 56,
   "id": "fb396182",
   "metadata": {},
   "outputs": [],
   "source": [
    "df_train = pd.read_csv('GM_train.csv')\n",
    "df_test = pd.read_csv('GM_test.csv')"
   ]
  },
  {
   "cell_type": "code",
   "execution_count": 62,
   "id": "c20b0c6c",
   "metadata": {},
   "outputs": [
    {
     "name": "stderr",
     "output_type": "stream",
     "text": [
      "/home/z/.local/lib/python3.10/site-packages/pgmpy/models/BayesianModel.py:8: FutureWarning: BayesianModel has been renamed to BayesianNetwork. Please use BayesianNetwork class, BayesianModel will be removed in future.\n",
      "  warnings.warn(\n",
      "100%|██████████| 8/8 [00:00<00:00, 6712.23it/s]"
     ]
    },
    {
     "name": "stdout",
     "output_type": "stream",
     "text": [
      "0.57\n"
     ]
    },
    {
     "name": "stderr",
     "output_type": "stream",
     "text": [
      "\n"
     ]
    }
   ],
   "source": [
    "gm = BayesianModel([('C', 'R'), ('C', 'S'), ('R', 'W'), ('S', 'W')])\n",
    "gm.fit(df_train)\n",
    "\n",
    "pred = gm.predict(df_train.drop('W',axis=1))\n",
    "print(accuracy_score(df_train['W'], pred))"
   ]
  },
  {
   "cell_type": "markdown",
   "id": "0babf17c",
   "metadata": {},
   "source": [
    "e.\t(5 pts) Generalize the model trained in **d** using `GM_test.csv`."
   ]
  },
  {
   "cell_type": "code",
   "execution_count": 63,
   "id": "7098c217",
   "metadata": {},
   "outputs": [
    {
     "name": "stderr",
     "output_type": "stream",
     "text": [
      "100%|██████████| 8/8 [00:00<00:00, 5945.15it/s]"
     ]
    },
    {
     "name": "stdout",
     "output_type": "stream",
     "text": [
      "0.56\n"
     ]
    },
    {
     "name": "stderr",
     "output_type": "stream",
     "text": [
      "\n"
     ]
    }
   ],
   "source": [
    "pred = gm.predict(df_test.drop('W',axis=1))\n",
    "print(accuracy_score(df_test['W'], pred))"
   ]
  },
  {
   "attachments": {},
   "cell_type": "markdown",
   "id": "c5fdb6e7",
   "metadata": {},
   "source": [
    "# Handwriting recognition: (70 pts)\n",
    "Handwriting recognition is a well-studied subject in computer vision and has found wide applications in our daily life (such as USPS mail sorting). In this project, we will explore various machine learning techniques for recognizing handwriting digits. The dataset you will be using is the well-known MINST dataset.\n",
    "\n",
    "(1)\tThe MNIST database of handwritten digits has a training set of 60,000 examples, and a test set of 10,000 examples. (http://yann.lecun.com/exdb/mnist/)\n",
    "\n",
    "(2)\tBelow is an example of some digits from the MNIST dataset.\n",
    "\n",
    "![Image of MINST](https://datasets.activeloop.ai/wp-content/uploads/2019/12/MNIST-handwritten-digits-dataset-visualized-by-Activeloop.webp)\n",
    "\n",
    "(3)\tThe goal of this assignment is to build a 10-class classifier to recognize those handwriting digits as accurately as you can.  All the assignments below should use the training data (60K examples) and test data (10 K examples) as given by the dataset."
   ]
  },
  {
   "attachments": {},
   "cell_type": "markdown",
   "id": "7115b7b9",
   "metadata": {},
   "source": [
    "a.\t(30 pts) Build several non-deep learning based classifiers using all pixels as features for handwriting recognition. You need to use at least **three techniques** we have learned from the class to do the work."
   ]
  },
  {
   "cell_type": "code",
   "execution_count": 23,
   "id": "c67e2c2e",
   "metadata": {},
   "outputs": [],
   "source": [
    "mnist_test = pd.read_csv('./mnist-in-csv/mnist_test.csv')\n",
    "mnist_train = pd.read_csv('./mnist-in-csv/mnist_train.csv')\n",
    "\n",
    "mnist_test_without_cols = mnist_test[1:]\n",
    "mnist_train_without_cols = mnist_train[1:]"
   ]
  },
  {
   "cell_type": "code",
   "execution_count": 24,
   "id": "48bdd8c2",
   "metadata": {},
   "outputs": [],
   "source": [
    "X_train = mnist_train_without_cols.iloc[:, 1:]\n",
    "X_train = np.array(X_train, dtype=int)\n",
    "\n",
    "X_test = mnist_test_without_cols.iloc[: , 1:]\n",
    "X_test = np.array(X_test, dtype=int)\n",
    "\n",
    "y_train = np.array(mnist_train_without_cols['label'], dtype=int)\n",
    "y_test = np.array(mnist_test_without_cols['label'], dtype=int)"
   ]
  },
  {
   "cell_type": "code",
   "execution_count": 25,
   "id": "e6f718c5",
   "metadata": {},
   "outputs": [
    {
     "name": "stdout",
     "output_type": "stream",
     "text": [
      "accuracy of decision tree is :  0.8786878687868787\n"
     ]
    }
   ],
   "source": [
    "# Decision Trees\n",
    "from sklearn import tree\n",
    "\n",
    "dt = tree.DecisionTreeClassifier()\n",
    "dt.fit(X_train, y_train)\n",
    "dt_pred = dt.predict(X_test)\n",
    "\n",
    "accuracy = np.sum(dt_pred == y_test) / len(y_test)\n",
    "print(\"accuracy of decision tree is : \", accuracy)"
   ]
  },
  {
   "cell_type": "code",
   "execution_count": 26,
   "id": "2b293758",
   "metadata": {},
   "outputs": [
    {
     "name": "stdout",
     "output_type": "stream",
     "text": [
      "accuracy of Gaussian Naive Bayes is :  0.5558555855585559\n"
     ]
    }
   ],
   "source": [
    "# Gaussian Naive Bayes \n",
    "from sklearn.naive_bayes import GaussianNB\n",
    "\n",
    "gnb = GaussianNB()\n",
    "y_pred = gnb.fit(X_train, y_train).predict(X_test)\n",
    "\n",
    "accuracy = np.sum(y_pred == y_test) / len(y_test)\n",
    "print(\"accuracy of Gaussian Naive Bayes is : \", accuracy)"
   ]
  },
  {
   "cell_type": "code",
   "execution_count": 27,
   "id": "662db67d",
   "metadata": {},
   "outputs": [
    {
     "name": "stdout",
     "output_type": "stream",
     "text": [
      "accuracy of Logistic Regression with softmax is :  0.5558555855585559\n"
     ]
    },
    {
     "name": "stderr",
     "output_type": "stream",
     "text": [
      "/home/z/.local/lib/python3.10/site-packages/sklearn/linear_model/_logistic.py:458: ConvergenceWarning: lbfgs failed to converge (status=1):\n",
      "STOP: TOTAL NO. of ITERATIONS REACHED LIMIT.\n",
      "\n",
      "Increase the number of iterations (max_iter) or scale the data as shown in:\n",
      "    https://scikit-learn.org/stable/modules/preprocessing.html\n",
      "Please also refer to the documentation for alternative solver options:\n",
      "    https://scikit-learn.org/stable/modules/linear_model.html#logistic-regression\n",
      "  n_iter_i = _check_optimize_result(\n"
     ]
    }
   ],
   "source": [
    "# Logistic Regression with softmax\n",
    "from sklearn.linear_model import LogisticRegression\n",
    "\n",
    "lr = LogisticRegression(multi_class=\"multinomial\", max_iter=1000)\n",
    "y_pred1 = lr.fit(X_train, y_train).predict(X_test)\n",
    "\n",
    "accuracy = np.sum(y_pred == y_test) / len(y_test)\n",
    "print(\"accuracy of Logistic Regression with softmax is : \", accuracy)"
   ]
  },
  {
   "cell_type": "code",
   "execution_count": 28,
   "id": "16e60065",
   "metadata": {},
   "outputs": [
    {
     "name": "stdout",
     "output_type": "stream",
     "text": [
      "accuracy of Logistic Regression with softmax is :  0.9664966496649665\n"
     ]
    }
   ],
   "source": [
    "# KNN Classifier\n",
    "from sklearn.neighbors import KNeighborsClassifier\n",
    "\n",
    "knn = KNeighborsClassifier(n_neighbors=10)\n",
    "y_pred_knn = knn.fit(X_train, y_train).predict(X_test)\n",
    "\n",
    "accuracy = np.sum(y_pred_knn == y_test) / len(y_test)\n",
    "print(\"accuracy of Logistic Regression with softmax is : \", accuracy)"
   ]
  },
  {
   "cell_type": "markdown",
   "id": "03b98827",
   "metadata": {},
   "source": [
    "b.\t(10 pts) In this assignment, we will explore various techniques related to a neural network with hidden layers of more than 3 to solve the 10-class classification problem.\n",
    "\n",
    "Since there are many existing implementations to solve the MINST problem, we need to give some twists to this problem to make it worthwhile to do for our final assignment. (Please refer to the ranking list for MNIST at http://rodrigob.github.io/are_we_there_yet/build/classification_datasets_results.html.)\n",
    "\n",
    "The basic network structure that we are trying to explore is something like the following (i.e., the fully connected deep neural nets). The number of hidden layers and the size of each hidden layer in terms of neurons are left as tuning parameters that you can explore.\n",
    "\n",
    "![Image of NN](https://pimages.toolbox.com/wp-content/uploads/2022/05/18113202/The-Architecture-of-a-Neural-Network.png)"
   ]
  },
  {
   "cell_type": "code",
   "execution_count": 29,
   "id": "c9ee30b0",
   "metadata": {},
   "outputs": [
    {
     "name": "stdout",
     "output_type": "stream",
     "text": [
      "accuracy of neural network with 4 hidden layers is : 0.9737973797379738\n"
     ]
    }
   ],
   "source": [
    "# Neural network with 4 hidden layers\n",
    "from sklearn.neural_network import MLPClassifier\n",
    "\n",
    "mlp = MLPClassifier(hidden_layer_sizes=(100, 100, 100, 100))\n",
    "# mlp.n_layers_ = 3\n",
    "y_pred_mlp = mlp.fit(X_train, y_train).predict(X_test)\n",
    "\n",
    "accuracy = np.sum(y_pred_mlp == y_test) / len(y_test)\n",
    "print(\"accuracy of neural network with 4 hidden layers is :\", accuracy)"
   ]
  },
  {
   "cell_type": "markdown",
   "id": "7e30aa9d",
   "metadata": {},
   "source": [
    "c.\t(30 pts) This assignment reflects the data collection process.\n",
    "- Hand write 5 styles of your own digits from 0 to 9 on a paper, and make sure your own handwritings are for sure recognizable by yourself. Please take a picture of each digit you write (so you have total 5 x 10 = 50 images), resize and convert it to the same data input format as the MNIST dataset. In other words, you have 50 new data points with labels.\n",
    "- Treat these 50 images as “brand-new” test dataset and run your own ML models from Question a and b on these 50 images and report the achieved test accuracy. Note, the goal for this exercise is not for achieving “high” accuracy, but to show what potential gaps there may be between existing MNIST dataset and your own test dataset, a scenario you would encounter in real life.\n",
    "- Use the following code for the image loading. \n"
   ]
  },
  {
   "cell_type": "code",
   "execution_count": 30,
   "id": "c1ab1d1e",
   "metadata": {},
   "outputs": [
    {
     "name": "stdout",
     "output_type": "stream",
     "text": [
      "50\n"
     ]
    }
   ],
   "source": [
    "#Import the Photos\n",
    "from matplotlib import pyplot as plt\n",
    "import cv2\n",
    "import os\n",
    "\n",
    "rootdir = \".\"\n",
    "\n",
    "def read_img(img_path):\n",
    "    img = cv2.imread(img_path)\n",
    "    x_img = np.array([0] * 784)\n",
    "\n",
    "\n",
    "    for i in range(28):\n",
    "        for j in range(28):\n",
    "            idx = i * 28 + j\n",
    "            x_img[idx] = 255 - img[i][j][0]\n",
    "            \n",
    "    return x_img, img\n",
    "    \n",
    "X_mydigits = []\n",
    "Y_mydigits = []\n",
    "digit_imgs = []\n",
    "\n",
    "# read handwritten digits\n",
    "for subdir, dirs, files in os.walk(rootdir):\n",
    "    for file in files:\n",
    "        if file.endswith(\".jpg\"):\n",
    "            # print(file)\n",
    "            path = os.path.join(subdir, file)\n",
    "            digit, img = read_img(path)\n",
    "            # print(\"Something happened\")\n",
    "            # label = int(os.path.splitext(subdir)[0][-1])\n",
    "            label = int(file.split('.')[0])\n",
    "            # print(\"label bruh #\", label)\n",
    "            X_mydigits.append(digit)\n",
    "            Y_mydigits.append(label)\n",
    "            digit_imgs.append(img)\n",
    "\n",
    "\n",
    "X_mydigits = np.array(X_mydigits)\n",
    "Y_mydigits = np.array(Y_mydigits)\n",
    "\n",
    "print(len(Y_mydigits))"
   ]
  },
  {
   "cell_type": "code",
   "execution_count": 33,
   "id": "59f7d30b",
   "metadata": {},
   "outputs": [
    {
     "name": "stdout",
     "output_type": "stream",
     "text": [
      "accuracy of Logistic Regression with softmax is :  0.1\n"
     ]
    }
   ],
   "source": [
    "# From Question a\n",
    "# Decision Tree\n",
    "dt_my_hand_predictions = dt.predict(X_mydigits)\n",
    "\n",
    "accuracy = np.sum(dt_my_hand_predictions == Y_mydigits) / len(Y_mydigits)\n",
    "print(\"accuracy of decision tree is : \", accuracy)"
   ]
  },
  {
   "cell_type": "code",
   "execution_count": 35,
   "id": "827ebb30",
   "metadata": {},
   "outputs": [
    {
     "name": "stdout",
     "output_type": "stream",
     "text": [
      "accuracy of Gaussian Naive Bayes is :  0.1\n"
     ]
    }
   ],
   "source": [
    "# From Question a\n",
    "# Gaussian Naive Bayes\n",
    "gnb_my_hand_predictions = gnb.predict(X_mydigits)\n",
    "\n",
    "accuracy = np.sum(gnb_my_hand_predictions == Y_mydigits) / len(Y_mydigits)\n",
    "print(\"accuracy of Gaussian Naive Bayes is : \", accuracy)"
   ]
  },
  {
   "cell_type": "code",
   "execution_count": 38,
   "id": "2a9d5d78",
   "metadata": {},
   "outputs": [
    {
     "name": "stdout",
     "output_type": "stream",
     "text": [
      "accuracy of Logistic Regressor with softmax is :  0.1\n"
     ]
    }
   ],
   "source": [
    "# From Question a\n",
    "# Logistic Regression with softmax\n",
    "lr_my_hand_predictions = lr.predict(X_mydigits)\n",
    "\n",
    "accuracy = np.sum(lr_my_hand_predictions == Y_mydigits) / len(Y_mydigits)\n",
    "print(\"accuracy of Logistic Regressor with softmax is : \", accuracy)"
   ]
  },
  {
   "cell_type": "code",
   "execution_count": 37,
   "id": "04cbd9e4",
   "metadata": {},
   "outputs": [
    {
     "name": "stdout",
     "output_type": "stream",
     "text": [
      "accuracy of KNN classifier is :  0.1\n"
     ]
    }
   ],
   "source": [
    "# From Question a\n",
    "# KNN Classifier\n",
    "knn_my_hand_predictions = knn.predict(X_mydigits)\n",
    "\n",
    "accuracy = np.sum(knn_my_hand_predictions == Y_mydigits) / len(Y_mydigits)\n",
    "print(\"accuracy of KNN classifier is : \", accuracy)"
   ]
  },
  {
   "cell_type": "code",
   "execution_count": 39,
   "id": "7eee5294",
   "metadata": {},
   "outputs": [
    {
     "name": "stdout",
     "output_type": "stream",
     "text": [
      "accuracy of Neural network with 4 hidden layers :  0.1\n"
     ]
    }
   ],
   "source": [
    "# From Question b\n",
    "# Neural network with 4 hidden layers\n",
    "mlp_my_hand_predictions = mlp.predict(X_mydigits)\n",
    "\n",
    "accuracy = np.sum(mlp_my_hand_predictions == Y_mydigits) / len(Y_mydigits)\n",
    "print(\"accuracy of Neural network with 4 hidden layers : \", accuracy)"
   ]
  },
  {
   "cell_type": "code",
   "execution_count": 32,
   "id": "2ee7b0a1",
   "metadata": {},
   "outputs": [],
   "source": [
    "#Showing all my images\n",
    "# temp_img = ''\n",
    "# for i in range(5):\n",
    "#     hor = ''\n",
    "#     for j in range(10):\n",
    "#         idx = i*10 + j\n",
    "#         img = digit_imgs[idx]\n",
    "#         if j == 0:\n",
    "#             hor = img\n",
    "#         else:\n",
    "#             hor = np.hstack((hor, img))\n",
    "#     if i == 0:\n",
    "#         temp_img = hor\n",
    "#     else:\n",
    "#         temp_img = np.vstack((temp_img, hor))\n",
    "\n",
    "# plt.imshow(temp_img)\n",
    "# plt.axis('off')\n",
    "# plt.show()"
   ]
  },
  {
   "cell_type": "markdown",
   "id": "d0ed5dd4",
   "metadata": {},
   "source": [
    "d.\tIn submission, the following is required for this assignment \n",
    "- Show all 50 images you create with the corresponding labels you intend to assign, \n",
    "- Make a table to show the test accuracy on these 50 images for each ML model you obtained from questions a to c.\n",
    "- Submit in a subfolder with your 50 handwriting dataset in MNIST format. \n"
   ]
  },
  {
   "cell_type": "code",
   "execution_count": null,
   "id": "9863570c",
   "metadata": {},
   "outputs": [],
   "source": []
  }
 ],
 "metadata": {
  "kernelspec": {
   "display_name": "Python 3",
   "language": "python",
   "name": "python3"
  },
  "language_info": {
   "codemirror_mode": {
    "name": "ipython",
    "version": 3
   },
   "file_extension": ".py",
   "mimetype": "text/x-python",
   "name": "python",
   "nbconvert_exporter": "python",
   "pygments_lexer": "ipython3",
   "version": "3.10.8"
  },
  "vscode": {
   "interpreter": {
    "hash": "e7370f93d1d0cde622a1f8e1c04877d8463912d04d973331ad4851f04de6915a"
   }
  }
 },
 "nbformat": 4,
 "nbformat_minor": 5
}
