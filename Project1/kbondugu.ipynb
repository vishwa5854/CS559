{
 "cells": [
  {
   "cell_type": "code",
   "execution_count": 39,
   "metadata": {},
   "outputs": [
    {
     "name": "stdout",
     "output_type": "stream",
     "text": [
      "Defaulting to user installation because normal site-packages is not writeable\n",
      "Requirement already satisfied: scikit-learn in /home/z/.local/lib/python3.10/site-packages (1.1.3)\n",
      "Requirement already satisfied: scipy in /home/z/.local/lib/python3.10/site-packages (1.9.3)\n",
      "Requirement already satisfied: matplotlib in /home/z/.local/lib/python3.10/site-packages (3.6.2)\n",
      "Requirement already satisfied: numpy>=1.17.3 in /home/z/.local/lib/python3.10/site-packages (from scikit-learn) (1.23.4)\n",
      "Requirement already satisfied: threadpoolctl>=2.0.0 in /home/z/.local/lib/python3.10/site-packages (from scikit-learn) (3.1.0)\n",
      "Requirement already satisfied: joblib>=1.0.0 in /home/z/.local/lib/python3.10/site-packages (from scikit-learn) (1.2.0)\n",
      "Requirement already satisfied: cycler>=0.10 in /home/z/.local/lib/python3.10/site-packages (from matplotlib) (0.11.0)\n",
      "Requirement already satisfied: packaging>=20.0 in /usr/lib/python3.10/site-packages (from matplotlib) (21.3)\n",
      "Requirement already satisfied: pillow>=6.2.0 in /usr/lib64/python3.10/site-packages (from matplotlib) (9.1.0)\n",
      "Requirement already satisfied: contourpy>=1.0.1 in /home/z/.local/lib/python3.10/site-packages (from matplotlib) (1.0.6)\n",
      "Requirement already satisfied: fonttools>=4.22.0 in /home/z/.local/lib/python3.10/site-packages (from matplotlib) (4.38.0)\n",
      "Requirement already satisfied: pyparsing>=2.2.1 in /usr/lib/python3.10/site-packages (from matplotlib) (2.4.7)\n",
      "Requirement already satisfied: kiwisolver>=1.0.1 in /home/z/.local/lib/python3.10/site-packages (from matplotlib) (1.4.4)\n",
      "Requirement already satisfied: python-dateutil>=2.7 in /home/z/.local/lib/python3.10/site-packages (from matplotlib) (2.8.2)\n",
      "Requirement already satisfied: six>=1.5 in /usr/lib/python3.10/site-packages (from python-dateutil>=2.7->matplotlib) (1.16.0)\n",
      "Defaulting to user installation because normal site-packages is not writeable\n",
      "Requirement already satisfied: pandas in /home/z/.local/lib/python3.10/site-packages (1.5.1)\n",
      "Requirement already satisfied: numpy>=1.21.0 in /home/z/.local/lib/python3.10/site-packages (from pandas) (1.23.4)\n",
      "Requirement already satisfied: pytz>=2020.1 in /home/z/.local/lib/python3.10/site-packages (from pandas) (2022.6)\n",
      "Requirement already satisfied: python-dateutil>=2.8.1 in /home/z/.local/lib/python3.10/site-packages (from pandas) (2.8.2)\n",
      "Requirement already satisfied: six>=1.5 in /usr/lib/python3.10/site-packages (from python-dateutil>=2.8.1->pandas) (1.16.0)\n",
      "Defaulting to user installation because normal site-packages is not writeable\n",
      "Requirement already satisfied: numpy in /home/z/.local/lib/python3.10/site-packages (1.23.4)\n"
     ]
    }
   ],
   "source": [
    "! pip install scikit-learn scipy matplotlib\n",
    "! pip install pandas\n",
    "! pip install numpy"
   ]
  },
  {
   "cell_type": "code",
   "execution_count": 40,
   "metadata": {},
   "outputs": [],
   "source": [
    "import numpy as np\n",
    "import pandas as pd\n",
    "import matplotlib.pyplot as plt\n",
    "import sklearn as sk\n",
    "%matplotlib inline"
   ]
  },
  {
   "cell_type": "code",
   "execution_count": 41,
   "metadata": {},
   "outputs": [],
   "source": [
    "columns = [\"s\", \"x\", \"y\", \"label\"]\n",
    "df_test = pd.read_csv('./Data_test.csv', names=columns)[1:]\n",
    "df_train = pd.read_csv('./Data_train.csv', names=columns)[1:]"
   ]
  },
  {
   "cell_type": "code",
   "execution_count": 42,
   "metadata": {},
   "outputs": [],
   "source": [
    "X_train = df_train.iloc[: , 1: 3]\n",
    "X_train = np.array(X_train, dtype=float)\n",
    "X_test = df_test.iloc[: , 1: 3]\n",
    "X_test = np.array(X_test, dtype=float)\n",
    "y_train = np.array(df_train['label'], dtype=int)\n",
    "y_test = np.array(df_test['label'], dtype=int)\n",
    "y_train_ovr = np.array([0 if y == 1 else 1 for y in y_train])\n",
    "y_test_ovr = np.array([0 if y == 1 else 1 for y in y_test])"
   ]
  },
  {
   "cell_type": "code",
   "execution_count": 43,
   "metadata": {},
   "outputs": [],
   "source": [
    "def sigmoid(x):\n",
    "    return (1 / (1 + np.exp(-x)))"
   ]
  },
  {
   "cell_type": "code",
   "execution_count": 44,
   "metadata": {},
   "outputs": [],
   "source": [
    "\"\"\"\n",
    "Task 0: Naïve Logistic Regression [5 pts] \n",
    "Make a logistic regression and report the accuracy.\n",
    "\"\"\"\n",
    "class NLogisticRegression:\n",
    "    def __init__(self, lr=0.001, n_iterations=1000):\n",
    "        self.lr = lr\n",
    "        self.n_iterations = n_iterations\n",
    "        self.weights = None\n",
    "        self.bias = None\n",
    "\n",
    "    def fit(self, X, y):\n",
    "        n_samples, n_features = X.shape\n",
    "        self.weights = np.zeros(n_features)\n",
    "        self.bias = 0\n",
    "\n",
    "        for _ in range(self.n_iterations):\n",
    "            linear_predictions = np.dot(X, self.weights) + self.bias\n",
    "            actual_predictions = sigmoid(linear_predictions)\n",
    "\n",
    "            dw = (1 / n_samples) * np.dot(X.T, (actual_predictions - y))\n",
    "            db = (1 / n_samples) * np.sum(actual_predictions - y)\n",
    "\n",
    "            # Updating the weights and bias\n",
    "            self.weights = self.weights - (self.lr * dw)\n",
    "            self.bias = self.bias - (self.lr * db)\n",
    "            \n",
    "    def predict(self, X):\n",
    "        linear_predictions = np.dot(X, self.weights) + self.bias\n",
    "        return [0 if y<=0.5 else 1 for y in sigmoid(linear_predictions)]"
   ]
  },
  {
   "cell_type": "code",
   "execution_count": 45,
   "metadata": {},
   "outputs": [
    {
     "name": "stdout",
     "output_type": "stream",
     "text": [
      "Accuracy of logistic regression is :  0.6570666666666667\n"
     ]
    }
   ],
   "source": [
    "logistic_classifier = NLogisticRegression(lr=0.1)\n",
    "logistic_classifier.fit(X_train, y_train_ovr)\n",
    "y_predicted = logistic_classifier.predict(X_test)\n",
    "accuracy = np.sum(y_predicted == y_test_ovr) / len(y_test)\n",
    "print(\"Accuracy of logistic regression is : \", accuracy)"
   ]
  },
  {
   "cell_type": "code",
   "execution_count": 46,
   "metadata": {},
   "outputs": [
    {
     "name": "stdout",
     "output_type": "stream",
     "text": [
      "Accuracy of sklearn logistic regression is : 0.6570666666666667\n",
      "Weights of the sklearn logistic regression is : [[0.0122343  0.06987057]]  Bias is : [0.68940611]\n"
     ]
    }
   ],
   "source": [
    "\"\"\"\n",
    "Task 2: Linear Parametric Classification [10 pts]\n",
    "Implement logistic regression model using Scikit-learn. Using the GridSearchCV, optimize the model. \n",
    "    1. Make a logistic regression model. Report the weights and the accuracy of the model.\n",
    "    2. Using the GridSearchCV at various 100  values from  to , build a logistic regression model. \n",
    "    Visualize how the model accuracy behaviors. Then report the best model. If the accuracy is 100%, \n",
    "    then the model is overfitted. In this case, the model should be regularized. \n",
    "    3. Using the best model, classify the test data set.\n",
    "\"\"\"\n",
    "from sklearn.linear_model import LogisticRegression\n",
    "\n",
    "logistic_classifier = LogisticRegression()\n",
    "logistic_classifier.fit(X_train, y_train_ovr)\n",
    "y_predicted = logistic_classifier.predict(X_test)\n",
    "accuracy = np.sum(y_predicted == y_test_ovr) / len(y_test)\n",
    "print(\"Accuracy of sklearn logistic regression is :\", accuracy)\n",
    "print(\"Weights of the sklearn logistic regression is :\", logistic_classifier.coef_, \" Bias is :\", logistic_classifier.intercept_)"
   ]
  },
  {
   "cell_type": "code",
   "execution_count": 47,
   "metadata": {},
   "outputs": [],
   "source": [
    "c = np.linspace(1, 10**5, num=100)"
   ]
  },
  {
   "cell_type": "code",
   "execution_count": 48,
   "metadata": {},
   "outputs": [
    {
     "name": "stdout",
     "output_type": "stream",
     "text": [
      "The best model is : {'C': 1.0} with accuracy : 0.6698666666666667\n"
     ]
    }
   ],
   "source": [
    "\"\"\"\n",
    "2. Using the GridSearchCV at various 100  values from  to , build a logistic regression model. \n",
    "    Visualize how the model accuracy behaviors. Then report the best model. If the accuracy is 100%, \n",
    "    then the model is overfitted. In this case, the model should be regularized. \n",
    "\"\"\"\n",
    "from sklearn.model_selection import GridSearchCV\n",
    "\n",
    "param_grid = { 'C' : c }                                    \n",
    "g = GridSearchCV(estimator=logistic_classifier, param_grid = param_grid) \n",
    "g.fit(X_train, y_train_ovr)\n",
    "print(\"The best model is :\", g.best_params_, \"with accuracy :\", g.best_score_)"
   ]
  },
  {
   "cell_type": "code",
   "execution_count": 49,
   "metadata": {},
   "outputs": [
    {
     "data": {
      "image/png": "[encoded data removed]",
      "text/plain": [
       "<Figure size 640x480 with 1 Axes>"
      ]
     },
     "metadata": {},
     "output_type": "display_data"
    }
   ],
   "source": [
    "scores = g.cv_results_['mean_test_score']\n",
    "\n",
    "for i in range(100):\n",
    "    plt.scatter(scores[i], c[i], c=\"grey\")"
   ]
  },
  {
   "cell_type": "code",
   "execution_count": 50,
   "metadata": {},
   "outputs": [
    {
     "name": "stdout",
     "output_type": "stream",
     "text": [
      "The best model accuracy for test data using GridSearchCV is : 0.6570666666666667\n"
     ]
    }
   ],
   "source": [
    "\"\"\"\n",
    "3. Using the best model, classify the test data set.\n",
    "\"\"\"\n",
    "from sklearn.metrics import accuracy_score\n",
    "\n",
    "predictions_x = g.best_estimator_.predict(X_test)\n",
    "print(\"The best model accuracy for test data using GridSearchCV is :\", accuracy_score(predictions_x, y_test_ovr))"
   ]
  },
  {
   "cell_type": "code",
   "execution_count": null,
   "metadata": {},
   "outputs": [],
   "source": [
    "\"\"\"\n",
    "Task 3: Transformation using Kernel Method [20 pts]\n",
    "Kernelize the original to a Kernel space using five different valid Kernel functions. \n",
    "Then repeat Task 2. \n",
    "\"\"\""
   ]
  },
  {
   "cell_type": "code",
   "execution_count": 54,
   "metadata": {},
   "outputs": [
    {
     "name": "stdout",
     "output_type": "stream",
     "text": [
      "Accuracy for K : 1 is : 1.0\n",
      "Accuracy for K : 2 is : 1.0\n",
      "Accuracy for K : 3 is : 1.0\n",
      "Accuracy for K : 4 is : 1.0\n",
      "Accuracy for K : 5 is : 1.0\n",
      "Accuracy for K : 6 is : 1.0\n",
      "Accuracy for K : 7 is : 1.0\n",
      "Accuracy for K : 8 is : 1.0\n",
      "Accuracy for K : 9 is : 1.0\n",
      "Accuracy for K : 10 is : 1.0\n",
      "Accuracy for K : 11 is : 1.0\n",
      "Accuracy for K : 12 is : 1.0\n",
      "Accuracy for K : 13 is : 1.0\n",
      "Accuracy for K : 14 is : 1.0\n",
      "Accuracy for K : 15 is : 1.0\n",
      "Accuracy for K : 16 is : 1.0\n",
      "Accuracy for K : 17 is : 1.0\n",
      "Accuracy for K : 18 is : 1.0\n",
      "Accuracy for K : 19 is : 1.0\n",
      "Accuracy for K : 20 is : 1.0\n",
      "Accuracy for K : 21 is : 1.0\n",
      "Accuracy for K : 22 is : 1.0\n",
      "Accuracy for K : 23 is : 1.0\n",
      "Accuracy for K : 24 is : 1.0\n",
      "Accuracy for K : 25 is : 1.0\n",
      "Accuracy for K : 26 is : 1.0\n",
      "Accuracy for K : 27 is : 1.0\n",
      "Accuracy for K : 28 is : 1.0\n",
      "Accuracy for K : 29 is : 1.0\n",
      "Accuracy for K : 30 is : 1.0\n",
      "Accuracy for K : 31 is : 1.0\n",
      "Accuracy for K : 32 is : 1.0\n",
      "Accuracy for K : 33 is : 1.0\n",
      "Accuracy for K : 34 is : 1.0\n",
      "Accuracy for K : 35 is : 1.0\n",
      "Accuracy for K : 36 is : 1.0\n",
      "Accuracy for K : 37 is : 1.0\n",
      "Accuracy for K : 38 is : 1.0\n",
      "Accuracy for K : 39 is : 1.0\n",
      "Accuracy for K : 40 is : 1.0\n",
      "Accuracy for K : 41 is : 1.0\n",
      "Accuracy for K : 42 is : 1.0\n",
      "Accuracy for K : 43 is : 1.0\n",
      "Accuracy for K : 44 is : 1.0\n",
      "Accuracy for K : 45 is : 1.0\n",
      "Accuracy for K : 46 is : 1.0\n",
      "Accuracy for K : 47 is : 1.0\n",
      "Accuracy for K : 48 is : 1.0\n",
      "Accuracy for K : 49 is : 1.0\n",
      "Accuracy for K : 50 is : 1.0\n",
      "Accuracy for K : 51 is : 1.0\n",
      "Accuracy for K : 52 is : 1.0\n",
      "Accuracy for K : 53 is : 1.0\n",
      "Accuracy for K : 54 is : 1.0\n",
      "Accuracy for K : 55 is : 1.0\n",
      "Accuracy for K : 56 is : 1.0\n",
      "Accuracy for K : 57 is : 1.0\n",
      "Accuracy for K : 58 is : 1.0\n",
      "Accuracy for K : 59 is : 1.0\n",
      "Accuracy for K : 60 is : 1.0\n",
      "Accuracy for K : 61 is : 1.0\n",
      "Accuracy for K : 62 is : 1.0\n",
      "Accuracy for K : 63 is : 1.0\n",
      "Accuracy for K : 64 is : 1.0\n",
      "Accuracy for K : 65 is : 1.0\n",
      "Accuracy for K : 66 is : 1.0\n",
      "Accuracy for K : 67 is : 1.0\n",
      "Accuracy for K : 68 is : 1.0\n",
      "Accuracy for K : 69 is : 1.0\n",
      "Accuracy for K : 70 is : 1.0\n",
      "Accuracy for K : 71 is : 1.0\n",
      "Accuracy for K : 72 is : 1.0\n",
      "Accuracy for K : 73 is : 1.0\n",
      "Accuracy for K : 74 is : 1.0\n",
      "Accuracy for K : 75 is : 1.0\n",
      "Accuracy for K : 76 is : 1.0\n",
      "Accuracy for K : 77 is : 1.0\n",
      "Accuracy for K : 78 is : 1.0\n",
      "Accuracy for K : 79 is : 1.0\n",
      "Accuracy for K : 80 is : 1.0\n",
      "Accuracy for K : 81 is : 1.0\n",
      "Accuracy for K : 82 is : 1.0\n",
      "Accuracy for K : 83 is : 1.0\n",
      "Accuracy for K : 84 is : 1.0\n",
      "Accuracy for K : 85 is : 1.0\n",
      "Accuracy for K : 86 is : 1.0\n",
      "Accuracy for K : 87 is : 1.0\n",
      "Accuracy for K : 88 is : 1.0\n",
      "Accuracy for K : 89 is : 1.0\n",
      "Accuracy for K : 90 is : 1.0\n",
      "Accuracy for K : 91 is : 1.0\n",
      "Accuracy for K : 92 is : 1.0\n",
      "Accuracy for K : 93 is : 1.0\n",
      "Accuracy for K : 94 is : 1.0\n",
      "Accuracy for K : 95 is : 1.0\n",
      "Accuracy for K : 96 is : 1.0\n",
      "Accuracy for K : 97 is : 1.0\n",
      "Accuracy for K : 98 is : 1.0\n",
      "Accuracy for K : 99 is : 1.0\n",
      "Accuracy for K : 100 is : 1.0\n",
      "Accuracy for K : 101 is : 1.0\n",
      "Accuracy for K : 102 is : 1.0\n",
      "Accuracy for K : 103 is : 1.0\n",
      "Accuracy for K : 104 is : 1.0\n",
      "Accuracy for K : 105 is : 1.0\n",
      "Accuracy for K : 106 is : 1.0\n",
      "Accuracy for K : 107 is : 1.0\n",
      "Accuracy for K : 108 is : 1.0\n",
      "Accuracy for K : 109 is : 1.0\n",
      "Accuracy for K : 110 is : 1.0\n",
      "Accuracy for K : 111 is : 1.0\n",
      "Accuracy for K : 112 is : 1.0\n",
      "Accuracy for K : 113 is : 1.0\n",
      "Accuracy for K : 114 is : 1.0\n",
      "Accuracy for K : 115 is : 1.0\n",
      "Accuracy for K : 116 is : 1.0\n",
      "Accuracy for K : 117 is : 0.9994666666666666\n",
      "Accuracy for K : 118 is : 0.9994666666666666\n",
      "Accuracy for K : 119 is : 0.9994666666666666\n",
      "Accuracy for K : 120 is : 0.9994666666666666\n",
      "Accuracy for K : 121 is : 0.9994666666666666\n",
      "Accuracy for K : 122 is : 0.9994666666666666\n",
      "Accuracy for K : 123 is : 0.9994666666666666\n",
      "Accuracy for K : 124 is : 0.9989333333333333\n",
      "Accuracy for K : 125 is : 0.9989333333333333\n",
      "Accuracy for K : 126 is : 0.9989333333333333\n",
      "Accuracy for K : 127 is : 0.9989333333333333\n",
      "Accuracy for K : 128 is : 0.9978666666666667\n",
      "Accuracy for K : 129 is : 0.9978666666666667\n",
      "Accuracy for K : 130 is : 0.9978666666666667\n",
      "Accuracy for K : 131 is : 0.9978666666666667\n",
      "Accuracy for K : 132 is : 0.9978666666666667\n",
      "Accuracy for K : 133 is : 0.9978666666666667\n",
      "Accuracy for K : 134 is : 0.9978666666666667\n",
      "Accuracy for K : 135 is : 0.9978666666666667\n",
      "Accuracy for K : 136 is : 0.9978666666666667\n",
      "Accuracy for K : 137 is : 0.9973333333333333\n",
      "Accuracy for K : 138 is : 0.9973333333333333\n",
      "Accuracy for K : 139 is : 0.9973333333333333\n",
      "Accuracy for K : 140 is : 0.9973333333333333\n",
      "Accuracy for K : 141 is : 0.9968\n",
      "Accuracy for K : 142 is : 0.9968\n",
      "Accuracy for K : 143 is : 0.9968\n",
      "Accuracy for K : 144 is : 0.9968\n",
      "Accuracy for K : 145 is : 0.9968\n",
      "Accuracy for K : 146 is : 0.9968\n",
      "Accuracy for K : 147 is : 0.9968\n",
      "Accuracy for K : 148 is : 0.9968\n",
      "Accuracy for K : 149 is : 0.9968\n",
      "Accuracy for K : 150 is : 0.9968\n",
      "Accuracy for K : 151 is : 0.9968\n",
      "Accuracy for K : 152 is : 0.9968\n",
      "Accuracy for K : 153 is : 0.9968\n",
      "Accuracy for K : 154 is : 0.9968\n",
      "Accuracy for K : 155 is : 0.9968\n",
      "Accuracy for K : 156 is : 0.9968\n",
      "Accuracy for K : 157 is : 0.9968\n",
      "Accuracy for K : 158 is : 0.9962666666666666\n",
      "Accuracy for K : 159 is : 0.9957333333333334\n",
      "Accuracy for K : 160 is : 0.9962666666666666\n",
      "Accuracy for K : 161 is : 0.9957333333333334\n",
      "Accuracy for K : 162 is : 0.9952\n",
      "Accuracy for K : 163 is : 0.9952\n",
      "Accuracy for K : 164 is : 0.9952\n",
      "Accuracy for K : 165 is : 0.9946666666666667\n",
      "Accuracy for K : 166 is : 0.9946666666666667\n",
      "Accuracy for K : 167 is : 0.9946666666666667\n",
      "Accuracy for K : 168 is : 0.9946666666666667\n",
      "Accuracy for K : 169 is : 0.9946666666666667\n",
      "Accuracy for K : 170 is : 0.9946666666666667\n",
      "Accuracy for K : 171 is : 0.9946666666666667\n",
      "Accuracy for K : 172 is : 0.9941333333333333\n",
      "Accuracy for K : 173 is : 0.9930666666666667\n",
      "Accuracy for K : 174 is : 0.9930666666666667\n",
      "Accuracy for K : 175 is : 0.9930666666666667\n",
      "Accuracy for K : 176 is : 0.9930666666666667\n",
      "Accuracy for K : 177 is : 0.9925333333333334\n",
      "Accuracy for K : 178 is : 0.9925333333333334\n",
      "Accuracy for K : 179 is : 0.9925333333333334\n",
      "Accuracy for K : 180 is : 0.9925333333333334\n",
      "Accuracy for K : 181 is : 0.9925333333333334\n",
      "Accuracy for K : 182 is : 0.992\n",
      "Accuracy for K : 183 is : 0.9925333333333334\n",
      "Accuracy for K : 184 is : 0.9914666666666667\n",
      "Accuracy for K : 185 is : 0.9914666666666667\n",
      "Accuracy for K : 186 is : 0.9909333333333333\n",
      "Accuracy for K : 187 is : 0.9904\n",
      "Accuracy for K : 188 is : 0.9898666666666667\n",
      "Accuracy for K : 189 is : 0.9898666666666667\n",
      "Accuracy for K : 190 is : 0.9888\n",
      "Accuracy for K : 191 is : 0.9888\n",
      "Accuracy for K : 192 is : 0.9888\n",
      "Accuracy for K : 193 is : 0.9888\n",
      "Accuracy for K : 194 is : 0.9888\n",
      "Accuracy for K : 195 is : 0.9882666666666666\n",
      "Accuracy for K : 196 is : 0.9882666666666666\n",
      "Accuracy for K : 197 is : 0.9882666666666666\n",
      "Accuracy for K : 198 is : 0.9872\n",
      "Accuracy for K : 199 is : 0.9872\n",
      "Accuracy for K : 200 is : 0.9872\n"
     ]
    }
   ],
   "source": [
    "\"\"\"\n",
    "Task 4: Non-parametric KNN Classification [15 pts]\n",
    "    1. Classify the original data with K values from 1 to 200. Then report the \n",
    "    accuracy with visualization. \n",
    "    2. Repeat step 1 with the final train data sets from Tasks 1 and 3. \n",
    "\"\"\"\n",
    "from sklearn.neighbors import KNeighborsClassifier\n",
    "\n",
    "knn_accuracies = []\n",
    "K_values = range(1, 201)\n",
    "for K in range(1, 201):\n",
    "    knn_model = KNeighborsClassifier(n_neighbors=K)\n",
    "    knn_model.fit(X_train, y_train)\n",
    "    knn_predictions = knn_model.predict(X_test)\n",
    "    knn_accuracy = accuracy_score(knn_predictions, y_test)\n",
    "    knn_accuracies.append(knn_accuracy)\n",
    "    print(\"Accuracy for K :\", K, \"is :\", knn_accuracy)"
   ]
  },
  {
   "cell_type": "code",
   "execution_count": 62,
   "metadata": {},
   "outputs": [
    {
     "data": {
      "text/plain": [
       "Text(0.5, 1.0, 'Accuracy of KNN with K')"
      ]
     },
     "execution_count": 62,
     "metadata": {},
     "output_type": "execute_result"
    },
    {
     "data": {
      "image/png": "[encoded data removed]",
      "text/plain": [
       "<Figure size 640x480 with 1 Axes>"
      ]
     },
     "metadata": {},
     "output_type": "display_data"
    }
   ],
   "source": [
    "plt.plot(knn_accuracies, K_values)\n",
    "plt.ylabel(\"K Value\")\n",
    "plt.xlabel(\"accuracy\")\n",
    "plt.title(\"Accuracy of KNN with K\")"
   ]
  }
 ],
 "metadata": {
  "kernelspec": {
   "display_name": "Python 3.10.8 64-bit",
   "language": "python",
   "name": "python3"
  },
  "language_info": {
   "codemirror_mode": {
    "name": "ipython",
    "version": 3
   },
   "file_extension": ".py",
   "mimetype": "text/x-python",
   "name": "python",
   "nbconvert_exporter": "python",
   "pygments_lexer": "ipython3",
   "version": "3.10.8"
  },
  "orig_nbformat": 4,
  "vscode": {
   "interpreter": {
    "hash": "e7370f93d1d0cde622a1f8e1c04877d8463912d04d973331ad4851f04de6915a"
   }
  }
 },
 "nbformat": 4,
 "nbformat_minor": 2
}
