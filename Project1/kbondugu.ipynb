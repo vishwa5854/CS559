{
 "cells": [
  {
   "cell_type": "code",
   "execution_count": 39,
   "metadata": {},
   "outputs": [
    {
     "name": "stdout",
     "output_type": "stream",
     "text": [
      "Defaulting to user installation because normal site-packages is not writeable\n",
      "Requirement already satisfied: scikit-learn in /home/z/.local/lib/python3.10/site-packages (1.1.3)\n",
      "Requirement already satisfied: scipy in /home/z/.local/lib/python3.10/site-packages (1.9.3)\n",
      "Requirement already satisfied: matplotlib in /home/z/.local/lib/python3.10/site-packages (3.6.2)\n",
      "Requirement already satisfied: numpy>=1.17.3 in /home/z/.local/lib/python3.10/site-packages (from scikit-learn) (1.23.4)\n",
      "Requirement already satisfied: threadpoolctl>=2.0.0 in /home/z/.local/lib/python3.10/site-packages (from scikit-learn) (3.1.0)\n",
      "Requirement already satisfied: joblib>=1.0.0 in /home/z/.local/lib/python3.10/site-packages (from scikit-learn) (1.2.0)\n",
      "Requirement already satisfied: cycler>=0.10 in /home/z/.local/lib/python3.10/site-packages (from matplotlib) (0.11.0)\n",
      "Requirement already satisfied: packaging>=20.0 in /usr/lib/python3.10/site-packages (from matplotlib) (21.3)\n",
      "Requirement already satisfied: pillow>=6.2.0 in /usr/lib64/python3.10/site-packages (from matplotlib) (9.1.0)\n",
      "Requirement already satisfied: contourpy>=1.0.1 in /home/z/.local/lib/python3.10/site-packages (from matplotlib) (1.0.6)\n",
      "Requirement already satisfied: fonttools>=4.22.0 in /home/z/.local/lib/python3.10/site-packages (from matplotlib) (4.38.0)\n",
      "Requirement already satisfied: pyparsing>=2.2.1 in /usr/lib/python3.10/site-packages (from matplotlib) (2.4.7)\n",
      "Requirement already satisfied: kiwisolver>=1.0.1 in /home/z/.local/lib/python3.10/site-packages (from matplotlib) (1.4.4)\n",
      "Requirement already satisfied: python-dateutil>=2.7 in /home/z/.local/lib/python3.10/site-packages (from matplotlib) (2.8.2)\n",
      "Requirement already satisfied: six>=1.5 in /usr/lib/python3.10/site-packages (from python-dateutil>=2.7->matplotlib) (1.16.0)\n",
      "Defaulting to user installation because normal site-packages is not writeable\n",
      "Requirement already satisfied: pandas in /home/z/.local/lib/python3.10/site-packages (1.5.1)\n",
      "Requirement already satisfied: numpy>=1.21.0 in /home/z/.local/lib/python3.10/site-packages (from pandas) (1.23.4)\n",
      "Requirement already satisfied: pytz>=2020.1 in /home/z/.local/lib/python3.10/site-packages (from pandas) (2022.6)\n",
      "Requirement already satisfied: python-dateutil>=2.8.1 in /home/z/.local/lib/python3.10/site-packages (from pandas) (2.8.2)\n",
      "Requirement already satisfied: six>=1.5 in /usr/lib/python3.10/site-packages (from python-dateutil>=2.8.1->pandas) (1.16.0)\n",
      "Defaulting to user installation because normal site-packages is not writeable\n",
      "Requirement already satisfied: numpy in /home/z/.local/lib/python3.10/site-packages (1.23.4)\n"
     ]
    }
   ],
   "source": [
    "! pip install scikit-learn scipy matplotlib\n",
    "! pip install pandas\n",
    "! pip install numpy"
   ]
  },
  {
   "cell_type": "code",
   "execution_count": 40,
   "metadata": {},
   "outputs": [],
   "source": [
    "import numpy as np\n",
    "import pandas as pd\n",
    "import matplotlib.pyplot as plt\n",
    "import sklearn as sk\n",
    "%matplotlib inline"
   ]
  },
  {
   "cell_type": "code",
   "execution_count": 41,
   "metadata": {},
   "outputs": [],
   "source": [
    "columns = [\"s\", \"x\", \"y\", \"label\"]\n",
    "df_test = pd.read_csv('./Data_test.csv', names=columns)[1:]\n",
    "df_train = pd.read_csv('./Data_train.csv', names=columns)[1:]"
   ]
  },
  {
   "cell_type": "code",
   "execution_count": 42,
   "metadata": {},
   "outputs": [],
   "source": [
    "X_train = df_train.iloc[: , 1: 3]\n",
    "X_train = np.array(X_train, dtype=float)\n",
    "X_test = df_test.iloc[: , 1: 3]\n",
    "X_test = np.array(X_test, dtype=float)\n",
    "y_train = np.array(df_train['label'], dtype=int)\n",
    "y_test = np.array(df_test['label'], dtype=int)\n",
    "y_train_ovr = np.array([0 if y == 1 else 1 for y in y_train])\n",
    "y_test_ovr = np.array([0 if y == 1 else 1 for y in y_test])"
   ]
  },
  {
   "cell_type": "code",
   "execution_count": 43,
   "metadata": {},
   "outputs": [],
   "source": [
    "def sigmoid(x):\n",
    "    return (1 / (1 + np.exp(-x)))"
   ]
  },
  {
   "cell_type": "code",
   "execution_count": 44,
   "metadata": {},
   "outputs": [],
   "source": [
    "\"\"\"\n",
    "Task 0: Naïve Logistic Regression [5 pts] \n",
    "Make a logistic regression and report the accuracy.\n",
    "\"\"\"\n",
    "class NLogisticRegression:\n",
    "    def __init__(self, lr=0.001, n_iterations=1000):\n",
    "        self.lr = lr\n",
    "        self.n_iterations = n_iterations\n",
    "        self.weights = None\n",
    "        self.bias = None\n",
    "\n",
    "    def fit(self, X, y):\n",
    "        n_samples, n_features = X.shape\n",
    "        self.weights = np.zeros(n_features)\n",
    "        self.bias = 0\n",
    "\n",
    "        for _ in range(self.n_iterations):\n",
    "            linear_predictions = np.dot(X, self.weights) + self.bias\n",
    "            actual_predictions = sigmoid(linear_predictions)\n",
    "\n",
    "            dw = (1 / n_samples) * np.dot(X.T, (actual_predictions - y))\n",
    "            db = (1 / n_samples) * np.sum(actual_predictions - y)\n",
    "\n",
    "            # Updating the weights and bias\n",
    "            self.weights = self.weights - (self.lr * dw)\n",
    "            self.bias = self.bias - (self.lr * db)\n",
    "            \n",
    "    def predict(self, X):\n",
    "        linear_predictions = np.dot(X, self.weights) + self.bias\n",
    "        return [0 if y<=0.5 else 1 for y in sigmoid(linear_predictions)]"
   ]
  },
  {
   "cell_type": "code",
   "execution_count": 45,
   "metadata": {},
   "outputs": [
    {
     "name": "stdout",
     "output_type": "stream",
     "text": [
      "Accuracy of logistic regression is :  0.6570666666666667\n"
     ]
    }
   ],
   "source": [
    "logistic_classifier = NLogisticRegression(lr=0.1)\n",
    "logistic_classifier.fit(X_train, y_train_ovr)\n",
    "y_predicted = logistic_classifier.predict(X_test)\n",
    "accuracy = np.sum(y_predicted == y_test_ovr) / len(y_test)\n",
    "print(\"Accuracy of logistic regression is : \", accuracy)"
   ]
  },
  {
   "cell_type": "code",
   "execution_count": 46,
   "metadata": {},
   "outputs": [
    {
     "name": "stdout",
     "output_type": "stream",
     "text": [
      "Accuracy of sklearn logistic regression is : 0.6570666666666667\n",
      "Weights of the sklearn logistic regression is : [[0.0122343  0.06987057]]  Bias is : [0.68940611]\n"
     ]
    }
   ],
   "source": [
    "\"\"\"\n",
    "Task 2: Linear Parametric Classification [10 pts]\n",
    "Implement logistic regression model using Scikit-learn. Using the GridSearchCV, optimize the model. \n",
    "    1. Make a logistic regression model. Report the weights and the accuracy of the model.\n",
    "    2. Using the GridSearchCV at various 100  values from  to , build a logistic regression model. \n",
    "    Visualize how the model accuracy behaviors. Then report the best model. If the accuracy is 100%, \n",
    "    then the model is overfitted. In this case, the model should be regularized. \n",
    "    3. Using the best model, classify the test data set.\n",
    "\"\"\"\n",
    "from sklearn.linear_model import LogisticRegression\n",
    "\n",
    "logistic_classifier = LogisticRegression()\n",
    "logistic_classifier.fit(X_train, y_train_ovr)\n",
    "y_predicted = logistic_classifier.predict(X_test)\n",
    "accuracy = np.sum(y_predicted == y_test_ovr) / len(y_test)\n",
    "print(\"Accuracy of sklearn logistic regression is :\", accuracy)\n",
    "print(\"Weights of the sklearn logistic regression is :\", logistic_classifier.coef_, \" Bias is :\", logistic_classifier.intercept_)"
   ]
  },
  {
   "cell_type": "code",
   "execution_count": 47,
   "metadata": {},
   "outputs": [],
   "source": [
    "c = np.linspace(1, 10**5, num=100)"
   ]
  },
  {
   "cell_type": "code",
   "execution_count": 48,
   "metadata": {},
   "outputs": [
    {
     "name": "stdout",
     "output_type": "stream",
     "text": [
      "The best model is : {'C': 1.0} with accuracy : 0.6698666666666667\n"
     ]
    }
   ],
   "source": [
    "\"\"\"\n",
    "2. Using the GridSearchCV at various 100  values from  to , build a logistic regression model. \n",
    "    Visualize how the model accuracy behaviors. Then report the best model. If the accuracy is 100%, \n",
    "    then the model is overfitted. In this case, the model should be regularized. \n",
    "\"\"\"\n",
    "from sklearn.model_selection import GridSearchCV\n",
    "\n",
    "param_grid = { 'C' : c }                                    \n",
    "g = GridSearchCV(estimator=logistic_classifier, param_grid = param_grid) \n",
    "g.fit(X_train, y_train_ovr)\n",
    "print(\"The best model is :\", g.best_params_, \"with accuracy :\", g.best_score_)"
   ]
  },
  {
   "cell_type": "code",
   "execution_count": 49,
   "metadata": {},
   "outputs": [
    {
     "data": {
      "image/png": "[encoded data removed]",
      "text/plain": [
       "<Figure size 640x480 with 1 Axes>"
      ]
     },
     "metadata": {},
     "output_type": "display_data"
    }
   ],
   "source": [
    "scores = g.cv_results_['mean_test_score']\n",
    "\n",
    "for i in range(100):\n",
    "    plt.scatter(scores[i], c[i], c=\"grey\")"
   ]
  },
  {
   "cell_type": "code",
   "execution_count": 50,
   "metadata": {},
   "outputs": [
    {
     "name": "stdout",
     "output_type": "stream",
     "text": [
      "The best model accuracy for test data using GridSearchCV is : 0.6570666666666667\n"
     ]
    }
   ],
   "source": [
    "\"\"\"\n",
    "3. Using the best model, classify the test data set.\n",
    "\"\"\"\n",
    "from sklearn.metrics import accuracy_score\n",
    "\n",
    "predictions_x = g.best_estimator_.predict(X_test)\n",
    "print(\"The best model accuracy for test data using GridSearchCV is :\", accuracy_score(predictions_x, y_test_ovr))"
   ]
  }
 ],
 "metadata": {
  "kernelspec": {
   "display_name": "Python 3.10.8 64-bit",
   "language": "python",
   "name": "python3"
  },
  "language_info": {
   "codemirror_mode": {
    "name": "ipython",
    "version": 3
   },
   "file_extension": ".py",
   "mimetype": "text/x-python",
   "name": "python",
   "nbconvert_exporter": "python",
   "pygments_lexer": "ipython3",
   "version": "3.10.8"
  },
  "orig_nbformat": 4,
  "vscode": {
   "interpreter": {
    "hash": "e7370f93d1d0cde622a1f8e1c04877d8463912d04d973331ad4851f04de6915a"
   }
  }
 },
 "nbformat": 4,
 "nbformat_minor": 2
}
